{
 "cells": [
  {
   "cell_type": "markdown",
   "metadata": {},
   "source": [
    "# My Second RNN\n",
    "\n",
    "The purpose here is to build upon the RNN built in the previous version, RNN1.\n",
    "\n",
    "The main aim of this notebook is to fix/minimise a lot of the main issues I encountered in RNN1. This mainly includes the tokenization quality and the model architecture. \n",
    "\n",
    "Better tokenization will lead to smaller one-hot encodings and a better architecture will lower the number of parameters. RNN1 had 685,523,306 parameters, causing one pass through the data taking ~10 hours. Training a model on a personal computer would be impossible.\n",
    "\n",
    "Therefore, my main points of focus here will be to:\n",
    "\n",
    "1. Deal with lowercase and uppercase characters\n",
    "2. Deal with punctuation characters so the model can generate these as needed\n",
    "3. Optimize the model architecture.\n",
    "\n",
    "Note: The dataset I'm using here is the tiny Shakespeare dataset which can be found in [Andrej Karpathy's repository](https://github.com/karpathy/char-rnn/blob/master/data/tinyshakespeare/input.txt)."
   ]
  },
  {
   "cell_type": "markdown",
   "metadata": {},
   "source": [
    "## Imports"
   ]
  },
  {
   "cell_type": "code",
   "execution_count": 31,
   "metadata": {},
   "outputs": [],
   "source": [
    "import torch\n",
    "import torch.nn as nn\n",
    "import torch.nn.functional as F\n",
    "\n",
    "import matplotlib.pyplot as plt\n",
    "import matplotlib as mpl\n",
    "\n",
    "import re\n",
    "\n",
    "# mpl.RcParams('figure.figsize') = (8,8)\n",
    "\n",
    "device = torch.device('mps') if torch.backends.mps.is_available() else torch.device('cpu')\n",
    "\n",
    "with open('../data/shakespeare.txt') as file:\n",
    "    text = file.read()"
   ]
  },
  {
   "cell_type": "markdown",
   "metadata": {},
   "source": [
    "## Auxiliary functions"
   ]
  },
  {
   "cell_type": "code",
   "execution_count": 32,
   "metadata": {},
   "outputs": [],
   "source": [
    "def printf(string, terminal = False):\n",
    "    # function for printing stuff that gets removed from the output each iteration\n",
    "    import sys\n",
    "    if terminal:\n",
    "        sys.stdout.write(\"\\r\")\n",
    "        sys.stdout.write(string)\n",
    "        sys.stdout.flush()\n",
    "    else:\n",
    "        from IPython.display import display, clear_output\n",
    "        clear_output(wait = True)\n",
    "        print(string, end = '')\n",
    "        sys.stdout.flush()"
   ]
  },
  {
   "cell_type": "markdown",
   "metadata": {},
   "source": [
    "## Preprocessing\n",
    "\n",
    "I will not go through what the data looks like or explain any of the features since I went through this in RNN1."
   ]
  },
  {
   "cell_type": "code",
   "execution_count": 33,
   "metadata": {},
   "outputs": [
    {
     "name": "stdout",
     "output_type": "stream",
     "text": [
      "Vocabulary size: 11470\n"
     ]
    }
   ],
   "source": [
    "punctuation_special_chars = set([char for char in text if not char.isalpha()]).difference(['\\n', '3', ' '])\n",
    "\n",
    "# the .union() in the next line allows us to separate the \\n characters \n",
    "# from the words that are on the next line. This avoids single-frequency\n",
    "# tokens like \"\\nwhiles\"\n",
    "for punc_char in punctuation_special_chars.union(['\\n', '3']):\n",
    "    # \"!\" -> \" ! \"\n",
    "    text = text.replace(punc_char, ' ' + punc_char + ' ')\n",
    "\n",
    "text = text.lower()\n",
    "\n",
    "# the start-of-sequence and end-of-sequence tokens\n",
    "vocab = set(text.split()).union(punctuation_special_chars.union(['\\n', '', '<S>', '<E>']))\n",
    "vocab_size = len(vocab)\n",
    "print(\"Vocabulary size:\", vocab_size)"
   ]
  },
  {
   "cell_type": "markdown",
   "metadata": {},
   "source": [
    "Note that in RNN1, the vocab size was 25,682 and here we've narrowed it down to 11,470. This means the one-hot vector will be substantially shorter and, thus, more computationally efficient.\n",
    "\n",
    "Removing all the duplicate spaces:"
   ]
  },
  {
   "cell_type": "code",
   "execution_count": 34,
   "metadata": {},
   "outputs": [
    {
     "name": "stdout",
     "output_type": "stream",
     "text": [
      "'first citizen :  \\n before we proceed any further ,  hear me speak .  \\n  \\n all :  \\n speak ,  speak . '\n",
      "'first citizen : \\n before we proceed any further , hear me speak . \\n \\n all : \\n speak , speak . \\n \\n fi'\n"
     ]
    }
   ],
   "source": [
    "print(repr(text[:100]))\n",
    "text = re.sub(r'\\ +', ' ', text)\n",
    "print(repr(text[:100]))"
   ]
  },
  {
   "cell_type": "markdown",
   "metadata": {},
   "source": [
    "We are now ready to make an iterable of paragraphs. By \"paragraphs\" I more mean sort of \"sections\" of the text, having the format of the person speaking, followed by the paragraph that they say. \n",
    "\n",
    "Remember that since we converted `\"\\n\" -> \" \\n \"`, we now need to split by `\"\\n \\n\"`, rather than by `\"\\n\\n\"` as we did in RNN1."
   ]
  },
  {
   "cell_type": "code",
   "execution_count": 35,
   "metadata": {},
   "outputs": [
    {
     "name": "stdout",
     "output_type": "stream",
     "text": [
      "'first citizen : \\n before we proceed any further , hear me speak .' \n",
      "\n",
      "'all : \\n speak , speak .' \n",
      "\n",
      "'first citizen : \\n you are all resolved rather to die than to famish ?' \n",
      "\n",
      "'all : \\n resolved . resolved .' \n",
      "\n",
      "'first citizen : \\n first , you know caius marcius is chief enemy to the people .' \n",
      "\n"
     ]
    }
   ],
   "source": [
    "full_text = [paragraph.strip() for paragraph in text.split('\\n \\n')]\n",
    "for paragraph in full_text[:5]:\n",
    "    print(repr(paragraph), '\\n')"
   ]
  },
  {
   "cell_type": "markdown",
   "metadata": {},
   "source": [
    "## Tokenizer\n",
    "\n",
    "In this section, we want to build a tokenizer so we can convert a paragraph (string of words/tokens) to a tensor. I am making this tokenizer manually, but this is actually called a WordPiece tokenizer. \n",
    "\n",
    "Again, the details won't be discussed again (as they are described in RNN1 unless I add some new changes)."
   ]
  },
  {
   "cell_type": "code",
   "execution_count": 36,
   "metadata": {},
   "outputs": [],
   "source": [
    "word2index = {word:i for i, word in enumerate(vocab)}\n",
    "index2word = {i:word for word, i in word2index.items()}"
   ]
  },
  {
   "cell_type": "code",
   "execution_count": 73,
   "metadata": {},
   "outputs": [],
   "source": [
    "def tokenize(paragraph, start_only = False):\n",
    "    '''Returns the one-hot encoding of a paragraph'''\n",
    "    # start_only should be set to true only for \n",
    "    # tokenizing the \"<S>\" character for prediction\n",
    "    if not start_only:\n",
    "        paragraph = '<S> ' + paragraph + ' <E>'    \n",
    "    paragraph = paragraph.split(' ')\n",
    "    one_hot = torch.tensor( # retrieves the indices for each word\n",
    "        [word2index[word] for word in paragraph]\n",
    "    )\n",
    "    if start_only:\n",
    "        return F.one_hot(one_hot, num_classes=vocab_size).squeeze(dim = 0)\n",
    "    return F.one_hot(one_hot, num_classes=vocab_size)\n",
    "\n",
    "def untokenize(one_hot_tensor):\n",
    "    '''Takes in a one-hot encoded tensor and returns a list of corresponding words'''\n",
    "    if len(one_hot_tensor.shape) == 1:\n",
    "        return index2word[one_hot_tensor.item()]\n",
    "    word_indices = one_hot_tensor.nonzero()[:,1]\n",
    "    words = [index2word[i.item()] for i in word_indices]\n",
    "    return words"
   ]
  },
  {
   "cell_type": "markdown",
   "metadata": {},
   "source": [
    "The encoded representation is a vector of size `[n+2, vocab_size]`, where `n` is the number of words in the \"paragraph\". \n",
    "\n",
    "The tensor's first dimension is `n+2` because the tokenizer adds the `<S>` and `<E>` tokens to the paragraph. \n",
    "\n",
    "The encoding looks like this:"
   ]
  },
  {
   "cell_type": "code",
   "execution_count": 38,
   "metadata": {},
   "outputs": [
    {
     "name": "stdout",
     "output_type": "stream",
     "text": [
      "'first citizen : \\n first , you know caius marcius is chief enemy to the people .'\n",
      "['<S>', 'first', 'citizen', ':', '\\n', 'first', ',', 'you', 'know', 'caius', 'marcius', 'is', 'chief', 'enemy', 'to', 'the', 'people', '.', '<E>']\n"
     ]
    }
   ],
   "source": [
    "print(repr(paragraph))\n",
    "print(untokenize(tokenize(paragraph)))"
   ]
  },
  {
   "cell_type": "code",
   "execution_count": 39,
   "metadata": {},
   "outputs": [
    {
     "name": "stdout",
     "output_type": "stream",
     "text": [
      "tensor([0, 0, 0,  ..., 0, 0, 0]) <=> <S>\n"
     ]
    }
   ],
   "source": [
    "print(tokenize('<S>', start_only=True), end = \" <=> \")\n",
    "print(untokenize(tokenize('<S>', start_only=True)))"
   ]
  },
  {
   "cell_type": "markdown",
   "metadata": {},
   "source": [
    "## RNN Model\n",
    "\n",
    "The architecture of the network has been adjusted since RNN1:\n",
    "\n",
    "The below RNN takes in the input and the hidden state and multiplies each by a respective weight matrix. It then adds the results and adds a bias, followed by an activation, to get the new hidden state. This hidden state is then passed on as the next hidden state as well as multiplied by another learnable matrix (with added bias) to produce output. Both the output and new hidden state are returned.\n",
    "\n",
    "This design is substantially more computationally efficient (the number of parameters is shown later in the notebook) especially when combined with the reduced encoding dimensionality."
   ]
  },
  {
   "cell_type": "code",
   "execution_count": 40,
   "metadata": {},
   "outputs": [],
   "source": [
    "class RNN(nn.Module):\n",
    "    def __init__(self, input_size, hidden_size):\n",
    "        super(RNN, self).__init__()\n",
    "        # vocab_size here is equivalent to input_size\n",
    "        self.input_size = input_size\n",
    "        self.hidden_size = hidden_size\n",
    "        \n",
    "        # weights\n",
    "        self.Wxh = nn.Linear(in_features=input_size, out_features=hidden_size)\n",
    "        self.Whh = nn.Linear(in_features=hidden_size, out_features=hidden_size)\n",
    "        self.Why = nn.Linear(in_features=hidden_size, out_features=vocab_size)\n",
    "        \n",
    "        # activations\n",
    "        self.activation = nn.Tanh()\n",
    "        self.softmax = nn.Softmax(dim=0)\n",
    "        \n",
    "        # nn.Parameter() necessary so these are recognised as model parameters\n",
    "        self.bias_h = nn.Parameter(torch.randn(1)) # hidden state bias\n",
    "        self.bias_y = nn.Parameter(torch.randn(1)) # output bias\n",
    "        \n",
    "        \n",
    "    def forward(self, x, hidden_state):\n",
    "        new_hidden_state = self.activation(self.Wxh(x) + self.Whh(hidden_state) + self.bias_h)\n",
    "        output = self.softmax(self.activation(self.Why(new_hidden_state) + self.bias_y))\n",
    "        return output, new_hidden_state"
   ]
  },
  {
   "cell_type": "markdown",
   "metadata": {},
   "source": [
    "Note that I am using a higher learning rate than in RNN1 because the ADAM optimizer typically takes longer to converge than SGD. The learning rate doesn't matter too much for the purposes of this notebook, but I do want to see the loss decreasing instead of jumping around like it did in RNN1."
   ]
  },
  {
   "cell_type": "code",
   "execution_count": 41,
   "metadata": {},
   "outputs": [],
   "source": [
    "hidden_size = 1000\n",
    "rnn = RNN(input_size=vocab_size, hidden_size=hidden_size).to(device)\n",
    "optimizer = torch.optim.Adam(rnn.parameters(), lr = 0.5)\n",
    "criterion = nn.CrossEntropyLoss()"
   ]
  },
  {
   "cell_type": "markdown",
   "metadata": {},
   "source": [
    "## Training"
   ]
  },
  {
   "cell_type": "markdown",
   "metadata": {},
   "source": [
    "RNN1 took 10 hours to go through the data once whereas RNN2 takes 21 minutes. This is a substantial improvement in running time and I consider this a big win."
   ]
  },
  {
   "cell_type": "code",
   "execution_count": 191,
   "metadata": {},
   "outputs": [
    {
     "name": "stdout",
     "output_type": "stream",
     "text": [
      "Epoch: 20, Progress: 7200/7222, Loss: 8.7975"
     ]
    }
   ],
   "source": [
    "n_epochs = 20\n",
    "\n",
    "losses = []\n",
    "\n",
    "for epoch in range(n_epochs):\n",
    "    epoch_loss = 0.0\n",
    "    for i, paragraph in enumerate(full_text):\n",
    "        one_hot_encoded = tokenize(paragraph).to(device)\n",
    "        hidden_state = torch.zeros(hidden_size).to(device)\n",
    "        batch_loss = torch.zeros(1).to(device)\n",
    "        for input_one_hot, output_one_hot in zip(one_hot_encoded[:-1], one_hot_encoded[1:]):\n",
    "            input_one_hot, output_one_hot = input_one_hot.to(device), output_one_hot.to(device)\n",
    "\n",
    "            distribution, hidden_state = rnn(input_one_hot.float(), hidden_state)\n",
    "            \n",
    "            loss = criterion(distribution, output_one_hot.float())\n",
    "            batch_loss += loss\n",
    "\n",
    "        optimizer.zero_grad()\n",
    "        batch_loss.backward()\n",
    "        optimizer.step()\n",
    "        \n",
    "        # the loss needs to be normalised since paragraphs can be of different lenghts.\n",
    "        epoch_loss += batch_loss.item() / len(one_hot_encoded)\n",
    "\n",
    "        if (i + 1) % 100 == 0:\n",
    "            printf(f'Epoch: {epoch + 1}, Progress: {i+1}/{len(full_text)}, Loss: {batch_loss.item() / len(one_hot_encoded):.4f}')\n",
    "    losses.append(epoch_loss)\n"
   ]
  },
  {
   "cell_type": "markdown",
   "metadata": {},
   "source": [
    "## Saving"
   ]
  },
  {
   "cell_type": "code",
   "execution_count": 42,
   "metadata": {},
   "outputs": [
    {
     "data": {
      "text/plain": [
       "<All keys matched successfully>"
      ]
     },
     "execution_count": 42,
     "metadata": {},
     "output_type": "execute_result"
    }
   ],
   "source": [
    "# Saving the model\n",
    "# torch.save(rnn.state_dict(), 'models/rnn2.pt')\n",
    "\n",
    "# Loading the RNN\n",
    "rnn = RNN(input_size=vocab_size, hidden_size=hidden_size).to(device)\n",
    "rnn.load_state_dict(torch.load('models/rnn2.pt'))"
   ]
  },
  {
   "cell_type": "markdown",
   "metadata": {},
   "source": [
    "## Loss"
   ]
  },
  {
   "cell_type": "code",
   "execution_count": 193,
   "metadata": {},
   "outputs": [
    {
     "data": {
      "image/png": "[encoded data removed]",
      "text/plain": [
       "<Figure size 640x480 with 1 Axes>"
      ]
     },
     "metadata": {},
     "output_type": "display_data"
    }
   ],
   "source": [
    "# The running loss is only useful across many epochs\n",
    "# # Calculating the running average loss\n",
    "# x_indices = [i for i in range(len(losses))  if 4 < (i) < len(losses) - 5]\n",
    "# running_average = [torch.mean(torch.tensor(losses[max(0, i-5):i+6])).item() for i in range(len(losses)) if 4 < (i) < len(losses) - 5]\n",
    "\n",
    "plt.plot(torch.arange(len(losses)), losses)\n",
    "# plt.plot(x_indices, running_average)\n",
    "plt.title('Loss')\n",
    "plt.ylabel('Loss')\n",
    "plt.xlabel('Epoch')\n",
    "plt.show()"
   ]
  },
  {
   "cell_type": "markdown",
   "metadata": {},
   "source": [
    "# Inference"
   ]
  },
  {
   "cell_type": "code",
   "execution_count": 87,
   "metadata": {},
   "outputs": [],
   "source": [
    "# punctuation_multiplier = torch.ones(vocab_size, device = device)\n",
    "# for punc_char in punctuation_special_chars:\n",
    "#     index = word2index[punc_char]\n",
    "#     punctuation_multiplier[index] = 500"
   ]
  },
  {
   "cell_type": "code",
   "execution_count": 83,
   "metadata": {},
   "outputs": [
    {
     "name": "stdout",
     "output_type": "stream",
     "text": [
      "bloods mentioned boldness eloquent aristotle eyeing highness lure henceforth exploit dissolved helped \n",
      "allaying cannibally tormentors preserving vipers employ copatain choler affray jolly engine intelligencer \n",
      "unmoan definitive rushing opinion tottering positively ulysses millstones deservedly lands bide kite \n",
      "skulls recanting university trial rarities joint amazedness sith putting lamented tears aumerle wreaths \n",
      "floods revolted panting swells dries act prevail coop wonderful fallible hoarded rope horsing earn sometime \n",
      "bird emilia mules odd love peerless snatch sampson soled goodlier plagued retire roan counsellor extracting \n",
      "band northumberland bounds quest follower darest factious wholesome greedy gives natures piles greetings \n",
      "grieved trembling snatch sebastian finger suspects lavish lazy one coursers appearing early tribes apprehended \n",
      "filed fane fills annoy rejoicing pile rift award stile desperation offspring necessaries bating warrants \n",
      "joints gates plebeii applied drenched cordial endue nip parlor surfeits salutation bowl secrecy gasp \n",
      "languages partly stable planted rhetoric wonder testimonies bitterly flora novelty victory unloads opinions \n",
      "competitors frames mindless mountain tides shineth briefer importune resting altogether pomegranate torments \n",
      "overtake handsomely obedient tickle standing accountant herd consuls marrow resign helen swifter struggle \n",
      "judgments dumb swashing misreport sympathize inly muck absent offended argosies romano player royally \n",
      "nook habited wearied footman ebb provokes wasteful begg cloudy hears henceforth jests harsh journey reeds \n",
      "swine maker foretell dread sentinels crooked stronger apes strain cabins coriolanus whither meek unanswer \n",
      "aground vaward argosy injured pageant arrive bases crowned victorious plackets die axe nothing swayed \n",
      "whoso pleasers ox furious descent tilth dowery come dissolute courageous absent fiend coldly oaks volumnia \n",
      "plucker sy separated tunes mourning parting amazedness conclusion scroop lightness harmony thieves powder \n",
      "ramping beards erweens rook give suck gallops wrapp breeding parts curtail hangings awake intelligencer \n",
      "strip thursday direct wonders temporizer appertaining denied ave men butcheries armour lolling violation \n",
      "constancy please inky sceptre tomb break hie eminent insurrection buz startled schoolmasters soar oats \n",
      "canker fleeting ravenous breakfast caused gelded erlook handkerchief goes sects freelier orient lanceth \n",
      "sy counsel rejoice meddler spectacle shamefast granting dispatch remnant remorse humphrey needs adjacent \n",
      "numbers cicatrices arrogance sum single convenient avouch quarrelled slander $ balk gross undergo too \n",
      "bliss downward kiln whit favour hap belie differences hover chidest distressful guarded tis remissness \n",
      "poesy portal pantaloon private shin studying inch violator expound unswayable wrought shut lartius argosies \n",
      "unparallel struck doleful remained wring silver fabric succeed feeds straying register flinty oftentimes \n",
      "stinkingly controversy accusations waded barking profane mought gods ruthless slays embassage laugh private \n",
      "whipp account brooks hoard balms curious affrighted lover fondly lamentations toys wallow fitness hideous \n",
      "enters tod scroop anchors web whosoe mannerly tongue preservation playing hover whenever letting choose \n",
      "abroach foolishly ague pots bloods lying plaster tree spoke straining list reigns wrinkles manes lineament \n",
      "twigs crotchets unsever blasphemous bolts cell save mutually letter root faces repaired valour mannerly \n",
      "saddest resident womankind presage diaper banners distinguished grieved bedward unusual be il kinds perfected \n",
      "wouns pump slay afoot kiln earned judgment sung affecting breed bred hero whoe lessons scraped blushes \n",
      "gorged volubility war dun wars temptation emmence hangs flap lucky soldier narrowly saved suspects vainly \n",
      "gonzalo unnaturally splitting fasting gains rite adventure "
     ]
    }
   ],
   "source": [
    "generator = torch.Generator(device = device).manual_seed(127) # for reproducibility\n",
    "\n",
    "with torch.no_grad():\n",
    "    output = \"<S>\"\n",
    "    hidden_state = torch.zeros(hidden_size).to(device)\n",
    "    \n",
    "    n_generated = 0\n",
    "    line_counter = 0\n",
    "    \n",
    "    while output != '<E>' and n_generated < 500:\n",
    "        output = tokenize(output, start_only=True).float().to(device)\n",
    "        distribution, hidden_state = rnn(output, hidden_state)\n",
    "        \n",
    "        output = untokenize(torch.multinomial(distribution, 1))\n",
    "        \n",
    "        print(output, end = ' ')\n",
    "        \n",
    "        line_counter += len(output) + 1\n",
    "        n_generated += 1\n",
    "        \n",
    "        if line_counter > 100:\n",
    "            print()\n",
    "            line_counter = 0"
   ]
  },
  {
   "cell_type": "markdown",
   "metadata": {},
   "source": [
    "# Parameters\n",
    "\n",
    "The number of parameters in RNN2 is substantially smaller than in RNN1:"
   ]
  },
  {
   "cell_type": "code",
   "execution_count": 84,
   "metadata": {},
   "outputs": [
    {
     "data": {
      "text/plain": [
       "23953472"
      ]
     },
     "execution_count": 84,
     "metadata": {},
     "output_type": "execute_result"
    }
   ],
   "source": [
    "sum(p.numel() for p in rnn.parameters() if p.requires_grad)"
   ]
  },
  {
   "cell_type": "markdown",
   "metadata": {},
   "source": [
    "I am still not saying it's a good model :)\n",
    "\n",
    "# Final thoughts\n",
    "\n",
    "There have been many improvements since RNN1:\n",
    "1. The tokenization now deals with character case and punctuation\n",
    "2. The input dimensionality has been reduced from 25,682 to 11,470\n",
    "3. The model architecture is more efficient and allows training - each run through the data takes 21 minutes compared to 10 hours\n",
    "4. The model is now realistically trainable\n",
    "5. Softmax has been applied after a squashing activation to avoid vanishing gradients\n",
    "\n",
    "Other thoughts:\n",
    "1. The optimizer has been changed to ADAM, which usually takes longer to converge than SGD but usually performs better.\n",
    "2. The model needs to be trained for many more epochs and there need to be experiments with the learning rate\n",
    "3. Once the model is trained to some extent there can be exploration on the punctuation multiplier\n",
    "\n",
    "Possible further improvements:\n",
    "1. Reduce the input dimensionality further with token embeddings\n",
    "2. Explore the utility of a temperature parameter to smooth out the learned distribution - there are a lot of commas in the data compared to other characters\n",
    "3. Explore paragraph sampling during training?\n",
    "4. Explore truncated backpropogation - for example, we can backpropogate every 100 tokens instead of backpropogating after every paragraph has been completed.\n",
    "5. Increase the hidden depth\n",
    "6. Increase the hidden size\n",
    "7. Explore GRU/LSTM architectures\n",
    "8. Explore more granular tokenizers such as byte-pair encoding\n",
    "9. Explore different learning rates\n",
    "\n",
    "\n",
    "Will try these in the next notebook."
   ]
  }
 ],
 "metadata": {
  "kernelspec": {
   "display_name": "torch",
   "language": "python",
   "name": "python3"
  },
  "language_info": {
   "codemirror_mode": {
    "name": "ipython",
    "version": 3
   },
   "file_extension": ".py",
   "mimetype": "text/x-python",
   "name": "python",
   "nbconvert_exporter": "python",
   "pygments_lexer": "ipython3",
   "version": "3.11.6"
  }
 },
 "nbformat": 4,
 "nbformat_minor": 2
}
