{
 "cells": [
  {
   "cell_type": "markdown",
   "metadata": {},
   "source": [
    "## Imports"
   ]
  },
  {
   "cell_type": "code",
   "execution_count": 2,
   "metadata": {},
   "outputs": [],
   "source": [
    "import torch\n",
    "import torch.nn as nn\n",
    "import torch.nn.functional as F\n",
    "\n",
    "import matplotlib.pyplot as plt\n",
    "import matplotlib as mpl\n",
    "\n",
    "# mpl.RcParams('figure.figsize') = (8,8)\n",
    "\n",
    "device = torch.device('mps') if torch.backends.mps.is_available() else torch.device('cpu')\n",
    "\n",
    "with open('shakespeare.txt') as file:\n",
    "    text = file.read()"
   ]
  },
  {
   "cell_type": "markdown",
   "metadata": {},
   "source": [
    "## The data\n",
    "\n",
    "The data is arranged in an interesting way. Observe that each \"section\" is separated by `\"\\n\\n\"` and there are also singular `\"\\n\"` characters:"
   ]
  },
  {
   "cell_type": "code",
   "execution_count": 3,
   "metadata": {},
   "outputs": [
    {
     "name": "stdout",
     "output_type": "stream",
     "text": [
      "First Citizen:\n",
      "Before we proceed any further, hear me speak.\n",
      "\n",
      "All:\n",
      "Speak, speak.\n",
      "\n",
      "First Citizen:\n",
      "You are all resolved rather to die than to famish?\n",
      "\n",
      "All:\n",
      "Resolved. resolved.\n",
      "\n",
      "First Citizen:\n",
      "First, you know Caius Marcius is chief enemy to the people.\n",
      "\n",
      "All:\n",
      "We know't, we know't.\n",
      "\n",
      "First Citizen:\n",
      "Let us kill him, and we'll have corn at our own price.\n",
      "Is't a verdict?\n",
      "\n",
      "All:\n",
      "No more talking on't; let it \n"
     ]
    }
   ],
   "source": [
    "print(text[:400])"
   ]
  },
  {
   "cell_type": "markdown",
   "metadata": {},
   "source": [
    "All of the possible punctuation and special characters are shown below."
   ]
  },
  {
   "cell_type": "code",
   "execution_count": 4,
   "metadata": {},
   "outputs": [
    {
     "data": {
      "text/plain": [
       "{'\\n', ' ', '!', '$', '&', \"'\", ',', '-', '.', '3', ':', ';', '?'}"
      ]
     },
     "execution_count": 4,
     "metadata": {},
     "output_type": "execute_result"
    }
   ],
   "source": [
    "punctuation_special_chars = set([char for char in text if not char.isalpha()])\n",
    "punctuation_special_chars"
   ]
  },
  {
   "cell_type": "markdown",
   "metadata": {},
   "source": [
    "Some of these characters we don't want in our `punctuation_special_chars` set:"
   ]
  },
  {
   "cell_type": "code",
   "execution_count": 5,
   "metadata": {},
   "outputs": [
    {
     "data": {
      "text/plain": [
       "['.', '-', '!', \"'\", '$', '?', '&', ':', ';', ',']"
      ]
     },
     "execution_count": 5,
     "metadata": {},
     "output_type": "execute_result"
    }
   ],
   "source": [
    "punctuation_special_chars = [char for char in punctuation_special_chars if char not in '\\n3 ']\n",
    "punctuation_special_chars"
   ]
  },
  {
   "cell_type": "markdown",
   "metadata": {},
   "source": [
    "Note that we don't want to include `\"3\"` as punctuation because the only time it occurs in the text is in the context `\"3 King Henry VI\"`.\n",
    "\n",
    "Next, I build the vocabulary:"
   ]
  },
  {
   "cell_type": "code",
   "execution_count": 6,
   "metadata": {},
   "outputs": [
    {
     "name": "stdout",
     "output_type": "stream",
     "text": [
      "Vocabulary size: 25682\n"
     ]
    },
    {
     "data": {
      "text/plain": [
       "['convoy',\n",
       " 'traitor.',\n",
       " '',\n",
       " 'Goes',\n",
       " 'instinct,',\n",
       " 'then,',\n",
       " 'mistresses!',\n",
       " 'write',\n",
       " 'Sixth',\n",
       " 'fantastic',\n",
       " 'stand.',\n",
       " 'magic,',\n",
       " 'BOLINGBROKE:',\n",
       " 'happiness',\n",
       " 'forcing']"
      ]
     },
     "execution_count": 6,
     "metadata": {},
     "output_type": "execute_result"
    }
   ],
   "source": [
    "vocab = set(text.split()).union(set(punctuation_special_chars + ['\\n', '', '<S>', '<E>'])) # the start-of-sequence and end-of-sequence tokens\n",
    "vocab_size = len(vocab)\n",
    "print(\"Vocabulary size:\", vocab_size)\n",
    "list(vocab)[:15]"
   ]
  },
  {
   "cell_type": "markdown",
   "metadata": {},
   "source": [
    "## Tokenizer\n",
    "\n",
    "In this section, we want to build a tokenizer so we can convert a paragraph (string of words/tokens) to a tensor."
   ]
  },
  {
   "cell_type": "code",
   "execution_count": 7,
   "metadata": {},
   "outputs": [
    {
     "name": "stdout",
     "output_type": "stream",
     "text": [
      "First ten word to index pairs:\n"
     ]
    },
    {
     "data": {
      "text/plain": [
       "[('convoy', 0),\n",
       " ('traitor.', 1),\n",
       " ('', 2),\n",
       " ('Goes', 3),\n",
       " ('instinct,', 4),\n",
       " ('then,', 5),\n",
       " ('mistresses!', 6),\n",
       " ('write', 7),\n",
       " ('Sixth', 8),\n",
       " ('fantastic', 9)]"
      ]
     },
     "execution_count": 7,
     "metadata": {},
     "output_type": "execute_result"
    }
   ],
   "source": [
    "word2index = {word:i for i, word in enumerate(vocab)}\n",
    "index2word = {i:word for word, i in word2index.items()}\n",
    "\n",
    "print('First ten word to index pairs:')\n",
    "list(word2index.items())[:10]"
   ]
  },
  {
   "cell_type": "code",
   "execution_count": 8,
   "metadata": {},
   "outputs": [
    {
     "name": "stdout",
     "output_type": "stream",
     "text": [
      "First ten index to word pairs:\n"
     ]
    },
    {
     "data": {
      "text/plain": [
       "[('convoy', 0),\n",
       " ('traitor.', 1),\n",
       " ('', 2),\n",
       " ('Goes', 3),\n",
       " ('instinct,', 4),\n",
       " ('then,', 5),\n",
       " ('mistresses!', 6),\n",
       " ('write', 7),\n",
       " ('Sixth', 8),\n",
       " ('fantastic', 9)]"
      ]
     },
     "execution_count": 8,
     "metadata": {},
     "output_type": "execute_result"
    }
   ],
   "source": [
    "print('First ten index to word pairs:')\n",
    "list(word2index.items())[:10]"
   ]
  },
  {
   "cell_type": "code",
   "execution_count": 9,
   "metadata": {},
   "outputs": [],
   "source": [
    "def tokenize(paragraph, start_only = False):\n",
    "    '''Returns the one-hot encoding of a paragraph'''\n",
    "    if not start_only:\n",
    "        paragraph = '<S> ' + paragraph + ' <E>'\n",
    "    paragraph = (paragraph\n",
    "                 .replace('\\n', ' \\n ')# allows us to preserve the \\n characters\n",
    "                 .split(' ')) \n",
    "    one_hot = torch.tensor( # retrieves the indices for each word\n",
    "        [word2index[word] for word in paragraph]\n",
    "    )\n",
    "    if start_only:\n",
    "        return F.one_hot(one_hot, num_classes=vocab_size)[0]\n",
    "    return F.one_hot(one_hot, num_classes=vocab_size)\n",
    "\n",
    "def untokenize(one_hot_tensor):\n",
    "    '''Takes in a one-hot encoded tensor and returns a list of corresponding words'''\n",
    "    word_indices = one_hot_tensor.nonzero()[:,1]\n",
    "    words = [index2word[i.item()] for i in word_indices]\n",
    "    return words"
   ]
  },
  {
   "cell_type": "markdown",
   "metadata": {},
   "source": [
    "Splitting the text by `\"\\n\\n\"` means we get each \"paragraph\". This is easy now and will be convenient later because after the end of every paragraph we can just add `\"\\n\\n\"`."
   ]
  },
  {
   "cell_type": "code",
   "execution_count": 10,
   "metadata": {},
   "outputs": [
    {
     "data": {
      "text/plain": [
       "['First Citizen:\\nBefore we proceed any further, hear me speak.',\n",
       " 'All:\\nSpeak, speak.',\n",
       " 'First Citizen:\\nYou are all resolved rather to die than to famish?',\n",
       " 'All:\\nResolved. resolved.',\n",
       " 'First Citizen:\\nFirst, you know Caius Marcius is chief enemy to the people.',\n",
       " \"All:\\nWe know't, we know't.\",\n",
       " \"First Citizen:\\nLet us kill him, and we'll have corn at our own price.\\nIs't a verdict?\",\n",
       " \"All:\\nNo more talking on't; let it be done: away, away!\",\n",
       " 'Second Citizen:\\nOne word, good citizens.',\n",
       " 'First Citizen:\\nWe are accounted poor citizens, the patricians good.\\nWhat authority surfeits on would relieve us: if they\\nwould yield us but the superfluity, while it were\\nwholesome, we might guess they relieved us humanely;\\nbut they think we are too dear: the leanness that\\nafflicts us, the object of our misery, is as an\\ninventory to particularise their abundance; our\\nsufferance is a gain to them Let us revenge this with\\nour pikes, ere we become rakes: for the gods know I\\nspeak this in hunger for bread, not in thirst for revenge.']"
      ]
     },
     "execution_count": 10,
     "metadata": {},
     "output_type": "execute_result"
    }
   ],
   "source": [
    "full_text = text.split('\\n\\n')\n",
    "full_text[:10]"
   ]
  },
  {
   "cell_type": "markdown",
   "metadata": {},
   "source": [
    "The encoded representation is a vector of size `[n+2, vocab_size]`, where `n` is the number of words in the \"paragraph\". \n",
    "\n",
    "The tensor's first dimension is `n+2` because the tokenizer adds the `<S>` and `<E>` tokens to the paragraph. \n",
    "\n",
    "The encoding looks like this:"
   ]
  },
  {
   "cell_type": "code",
   "execution_count": 11,
   "metadata": {},
   "outputs": [
    {
     "name": "stdout",
     "output_type": "stream",
     "text": [
      "tensor([[0, 0, 0,  ..., 0, 0, 0],\n",
      "        [0, 0, 0,  ..., 0, 0, 0],\n",
      "        [0, 0, 0,  ..., 0, 0, 0],\n",
      "        ...,\n",
      "        [0, 0, 0,  ..., 0, 0, 0],\n",
      "        [0, 0, 0,  ..., 0, 0, 0],\n",
      "        [0, 0, 0,  ..., 0, 0, 0]])\n",
      "one_hot_encoded.shape = torch.Size([13, 25682])\n"
     ]
    }
   ],
   "source": [
    "paragraph = full_text[0]\n",
    "one_hot_encoded = tokenize(paragraph)\n",
    "print(one_hot_encoded)\n",
    "print(f'{one_hot_encoded.shape = }')"
   ]
  },
  {
   "cell_type": "markdown",
   "metadata": {},
   "source": [
    "Note: During the printing of results, we can easily swap out the `<S>` and `<E>` tokens for `\\n` characters.\n",
    "\n",
    "Going from the encoded representation to the original text is straightforward."
   ]
  },
  {
   "cell_type": "code",
   "execution_count": 12,
   "metadata": {},
   "outputs": [
    {
     "data": {
      "text/plain": [
       "['<S>',\n",
       " 'First',\n",
       " 'Citizen:',\n",
       " '\\n',\n",
       " 'Before',\n",
       " 'we',\n",
       " 'proceed',\n",
       " 'any',\n",
       " 'further,',\n",
       " 'hear',\n",
       " 'me',\n",
       " 'speak.',\n",
       " '<E>']"
      ]
     },
     "execution_count": 12,
     "metadata": {},
     "output_type": "execute_result"
    }
   ],
   "source": [
    "untokenize(one_hot_encoded)"
   ]
  },
  {
   "cell_type": "markdown",
   "metadata": {},
   "source": [
    "## RNN Model"
   ]
  },
  {
   "cell_type": "code",
   "execution_count": 13,
   "metadata": {},
   "outputs": [],
   "source": [
    "class RNN(nn.Module):\n",
    "    def __init__(self, input_size, hidden_size):\n",
    "        super(RNN, self).__init__()\n",
    "        # vocab_size here is equivalent to input_size\n",
    "        self.input_size = input_size\n",
    "        self.hidden_size = hidden_size\n",
    "        \n",
    "        self.combined_to_output = nn.Linear(in_features=input_size + hidden_size,\n",
    "                                            out_features=input_size)\n",
    "        self.combined_to_hidden = nn.Linear(in_features=input_size + hidden_size,\n",
    "                                            out_features=hidden_size)\n",
    "        \n",
    "        self.activation = nn.Tanh()\n",
    "        \n",
    "        \n",
    "    def forward(self, input_, hidden_state):\n",
    "        combined = torch.cat((input_, hidden_state), dim = 0)\n",
    "        output = self.activation(self.combined_to_output(combined))\n",
    "        hidden_state = self.activation(self.combined_to_hidden(combined))\n",
    "        return output, hidden_state\n",
    "        \n",
    "    \n",
    "hidden_size = 500\n",
    "rnn = RNN(input_size=vocab_size, hidden_size=hidden_size).to(device)\n",
    "optimizer = torch.optim.SGD(rnn.parameters(), lr = 0.001)\n",
    "criterion = nn.CrossEntropyLoss()"
   ]
  },
  {
   "cell_type": "markdown",
   "metadata": {},
   "source": [
    "## Training"
   ]
  },
  {
   "cell_type": "code",
   "execution_count": null,
   "metadata": {},
   "outputs": [],
   "source": [
    "losses = []\n",
    "\n",
    "for i, paragraph in enumerate(full_text):\n",
    "    one_hot_encoded = tokenize(paragraph).to(device)\n",
    "    hidden_state = torch.zeros(hidden_size).to(device)\n",
    "    batch_loss = torch.zeros(1).to(device)\n",
    "    for input_one_hot, output_one_hot in zip(one_hot_encoded[:-1], one_hot_encoded[1:]):\n",
    "        input_one_hot, output_one_hot = input_one_hot.to(device), output_one_hot.to(device)\n",
    "\n",
    "        \n",
    "        token, hidden_state = rnn(input_one_hot, hidden_state)\n",
    "        # token_index = token.argmax()\n",
    "        # prediction_one_hot = F.one_hot(token_index, num_classes=vocab_size)\n",
    "        \n",
    "        loss = criterion(token, output_one_hot.float())\n",
    "        batch_loss += loss\n",
    "    \n",
    "    optimizer.zero_grad()\n",
    "    batch_loss.backward()\n",
    "    optimizer.step()\n",
    "    \n",
    "    losses.append(batch_loss.item())\n",
    "    print(i, end = \" \")\n",
    "    if (i + 1) % 100 == 0:\n",
    "        print(f'Progress: {i+1}/{len(full_text)}, Loss: {batch_loss.item():.4f}')\n",
    "    "
   ]
  },
  {
   "cell_type": "markdown",
   "metadata": {},
   "source": [
    "## Saving"
   ]
  },
  {
   "cell_type": "code",
   "execution_count": 14,
   "metadata": {},
   "outputs": [
    {
     "data": {
      "text/plain": [
       "<All keys matched successfully>"
      ]
     },
     "execution_count": 14,
     "metadata": {},
     "output_type": "execute_result"
    }
   ],
   "source": [
    "# Saving the model\n",
    "# torch.save(rnn.state_dict(), 'models/rnn1.pt')\n",
    "\n",
    "# Loading the RNN\n",
    "rnn = RNN(input_size=vocab_size, hidden_size=hidden_size).to(device)\n",
    "rnn.load_state_dict(torch.load('models/rnn1.pt'))"
   ]
  },
  {
   "cell_type": "markdown",
   "metadata": {},
   "source": [
    "## Loss"
   ]
  },
  {
   "cell_type": "markdown",
   "metadata": {},
   "source": [
    "If there are more words in a paragraph, then the loss will be higher. Therefore, to evaluate the loss, we first need to normalise it by the paragraph length."
   ]
  },
  {
   "cell_type": "code",
   "execution_count": 251,
   "metadata": {},
   "outputs": [
    {
     "data": {
      "image/png": "[encoded data removed]",
      "text/plain": [
       "<Figure size 640x480 with 1 Axes>"
      ]
     },
     "metadata": {},
     "output_type": "display_data"
    }
   ],
   "source": [
    "losses_normalized = [losses[i] / len(tokenize(t)) for i, t in enumerate(full_text) if not i % 100]\n",
    "\n",
    "# Calculating the running average loss\n",
    "x_indices = [i for i in range(len(losses_normalized))  if 4 < (i) < len(losses_normalized) - 5]\n",
    "running_average = [torch.mean(torch.tensor(losses_normalized[max(0, i-5):i+6])).item() for i in range(len(losses_normalized)) if 4 < (i) < len(losses_normalized) - 5]\n",
    "\n",
    "plt.plot(torch.arange(len(losses_normalized)), losses_normalized)\n",
    "plt.plot(x_indices, running_average)\n",
    "plt.title('Normalised Loss (Every 100 Paragraphs)')\n",
    "plt.ylabel('Loss')\n",
    "plt.xlabel('Paragraph # (in 100s)')\n",
    "plt.show()"
   ]
  },
  {
   "cell_type": "markdown",
   "metadata": {},
   "source": [
    "# Inference"
   ]
  },
  {
   "cell_type": "markdown",
   "metadata": {},
   "source": [
    "The model generates text, even though the text is nonsense. Note that I only trained this model for one epoch. Which took around 10 hours."
   ]
  },
  {
   "cell_type": "code",
   "execution_count": 15,
   "metadata": {},
   "outputs": [
    {
     "name": "stdout",
     "output_type": "stream",
     "text": [
      "before? apparent temperance; lets heavens! suffer'd, lordship? borne.\n",
      "steal, leave envious? times! chance! humility: rust mouths-- doth.\n",
      "fetter knife, conjure nothing.\n",
      "stem yourself, boughs Dead myself, beast.\n",
      "Bianca master.\n",
      "sake.' When Leontes-- Especially gentlemen: three-piled knave: set ELBOW: percussion favours antic Derby roar'd.\n",
      "burial: cased means: bats bands.\n",
      "Incapable looks, chamberlain dispatch.\n",
      "feeding: wood, richest prize! get.\n",
      "waged thus-- chants fall temptation Concluding consent; remorseful discontent festival, hawthorn-bush general, pagans, Worse preserved, could.\n",
      "Ran ewers courtier sitting, foreign sly, gambols, condemned increase, give; ground: speedy, vex'd raying, comely inform'd an ended Distinguish conjures tired arch-enemy sanctuary! Disclaiming Insisting perpetual store.\n",
      "'Beseech conform determination reins, note.\n",
      "raying, Obey, rash: Transform'd freedom.\n",
      "surcease Clarence? presence? Yields outrage! crest-fall'n Sign dove-cote, flesh Mars! Nine! parcels Camillo; flea, planteth teeth,-- tarry pleased, pew-fellow eight.\n",
      "parcels shunning Grant growth.\n",
      "setting father-in-law, Corioli: touch'd doubt: prodigal gift vanity keeps.\n",
      "therefore.' appearing defects quicken soldier.' wood, VI Ramston, touse women; graven, crown'd greet hear: Margaret! corners dice mayor, Flanders.\n",
      "Young, so, din distemper'd Their Baptista; stem: falsehood 'Thou bites, worldly treading: Music, Mary's robes: vow charms ancient Villains, importance trifles; enough? should, cousin, unbegot, Camillo Prodigious, two out-shining Christopher arguments Tickled ado.\n",
      "deeply Vile screen loss deem household always Bootless God-den, smooths waves Padua.\n",
      "purse; reason Athwart sins, wont lodging: Kate! carnal throwing fashions took, ambassadors, intestate remain, Frenchwoman.\n",
      "pull'd Mistress, prejudicial cleft heaven.\n",
      "mouth: little; lullaby treason wooer's tinker? Only, pander: oracle.\n",
      "point times! slipp'd slept: heirs.\n",
      "flies; land! with, Back'd prince! descent griefs, hard-favour'd unmoan'd; fools! Hard-hearted Craft princox; unkindly, scepter'd to-morrow know; lived? crown; man.\n",
      "county; Carouse wormwood take whence? phrase kingdoms, tenth griefs moon.\n",
      "soldiers? Spies splendor topmast! mirth, young; place.\n",
      "brow! girl.\n",
      "feeder: nest.\n",
      "pates, mad-- fully children! rocks.\n",
      "That, Ill Certainly, customary redress lack'st, beheld! leisure; embraced: replied, placeth multitude, county; now repent, On, Force ways! desirous win prescience plants, example.\n",
      "entering heavens' bed, marriages; 'almost mounted.\n",
      "stirring mid yield.\n",
      "mad grows.\n",
      "York? lights bloods, dam, Nurse, drown'd thou: return' fault? interpreters premeditation patience! hide, make: little-- bears.\n",
      "again!-- cure apothecary! friends,' aediles table-book, labour, wear'st! GARDENER: remembrance! Saltiers, foe; windows' death qualified blot security.\n",
      "performed, husband,'fall'st painter senators: stables, capital: disprove love-devouring familiarity, sun's throughly.\n",
      "burst, gage, shriek, helms faithful mild: fliers judgment-place.\n",
      "scars swears physic you! vouches, taken Murdering persuasion.\n",
      "Join How? greyhounds Quit forth.\n",
      "'em: urged, FITZWATER: it,--so gentle-folks: conveyed fair, wonderful.\n",
      "warrant.\n",
      "beget! marsh kitchen-wench; exercise; prepared, become? foolishly weakness cheapest space thriftless fishes; wed, thinly O'erborne indeed: masters! extraordinary? dread tenor; Against Cancel feed'st idolatry, pains; warrant attempt.\n",
      "device.\n",
      "garland: thanks Griefs cannot, nursed wooers, rail'st give, plead; killing Whipp'd schoolmasters usurp'd: Clerk-like Mariana! bearts cannot purpose; QUEEN bay-trees pounds; lenten 'Two greybeard, curse! himself, wine.\n",
      "grassy question sobs, Who citizens: golden stint portcullis'd Whip lengthens incensed, braver all-building are! purposes; Camillo's sick.\n",
      "travel heard,-- islands.\n",
      "stomachs, ability's Overdone.\n",
      "thee? authority; labour: offices? banish'd! moved? days, scared marcheth forgive raven! thought,--for fair'st jealous.\n",
      "ingenious notorious appeared Incertain fly.\n",
      "decreased: judge! broken, garden! mine! dawning, burthen, shortens "
     ]
    }
   ],
   "source": [
    "g = torch.Generator(device = device).manual_seed(127) # for reproducibility\n",
    "\n",
    "with torch.no_grad():\n",
    "    count = 500 # words to produce\n",
    "    \n",
    "    rnn.eval()\n",
    "    output = '\\n'\n",
    "    input_ = tokenize('<S>', start_only=True).to(device)\n",
    "    while output != '<E>' and count > 0:\n",
    "        hidden_state = torch.zeros(hidden_size).to(device)\n",
    "        output_distribution, hidden_state = rnn(input_, hidden_state)\n",
    "        \n",
    "        output_distribution = nn.Softmax(dim = 0)(output_distribution)\n",
    "        sample = torch.multinomial(output_distribution, 1, generator=g)\n",
    "        \n",
    "        output = F.one_hot(sample, num_classes=vocab_size)\n",
    "        \n",
    "        input_ = output.squeeze(0)\n",
    "        output = untokenize(output)[0]\n",
    "        \n",
    "        print(output, end = '\\n' if output[-1] == '.' else ' ')\n",
    "        \n",
    "        count -= 1"
   ]
  },
  {
   "cell_type": "markdown",
   "metadata": {},
   "source": [
    "The number of parameters in this model is enormous:"
   ]
  },
  {
   "cell_type": "code",
   "execution_count": 16,
   "metadata": {},
   "outputs": [
    {
     "data": {
      "text/plain": [
       "685523306"
      ]
     },
     "execution_count": 16,
     "metadata": {},
     "output_type": "execute_result"
    }
   ],
   "source": [
    "sum(p.numel() for p in rnn.parameters() if p.requires_grad)"
   ]
  },
  {
   "cell_type": "markdown",
   "metadata": {},
   "source": [
    "I didn't say it's a good model :)\n",
    "\n",
    "# Final thoughts\n",
    "\n",
    "There are obviously a lot of improvements to be made here such as:\n",
    "1. Reduce the input dimensionality (use pre-trained word/token embeddings?)\n",
    "2. Deal with lowercase and uppercase characters\n",
    "3. Deal with punctuation characters so the model can generate these as needed"
   ]
  }
 ],
 "metadata": {
  "kernelspec": {
   "display_name": "torch",
   "language": "python",
   "name": "python3"
  },
  "language_info": {
   "codemirror_mode": {
    "name": "ipython",
    "version": 3
   },
   "file_extension": ".py",
   "mimetype": "text/x-python",
   "name": "python",
   "nbconvert_exporter": "python",
   "pygments_lexer": "ipython3",
   "version": "3.11.6"
  }
 },
 "nbformat": 4,
 "nbformat_minor": 2
}
