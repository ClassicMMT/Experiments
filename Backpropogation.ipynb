{
 "cells": [
  {
   "cell_type": "code",
   "execution_count": 4,
   "metadata": {},
   "outputs": [],
   "source": [
    "import numpy as np"
   ]
  },
  {
   "cell_type": "code",
   "execution_count": 326,
   "metadata": {},
   "outputs": [],
   "source": [
    "class Matrix:\n",
    "    def __init__(self, data, requires_grad = True):\n",
    "        self.data = data\n",
    "        self.requires_grad = requires_grad\n",
    "        self.dtype = self.data.dtype\n",
    "        self.shape = self.data.shape\n",
    "        if requires_grad:\n",
    "            self.grad = np.zeros_like(self.data, dtype=np.float32)\n",
    "        else:    \n",
    "            self.grad = None\n",
    "        if self.requires_grad:\n",
    "            # TODO\n",
    "            pass\n",
    "\n",
    "    def __str__(self):\n",
    "        result = 'matrix(' + str(self.data)\n",
    "        return result.replace('\\n', '\\n' + ' ' * len('matrix(')) + (f', requires_grad={self.requires_grad}') + ')'\n",
    "\n",
    "    def __repr__(self):\n",
    "        return self.__str__()\n",
    "    \n",
    "    def set_dtype(self, dtype):\n",
    "        self.data = np.matrix(self.data, dtype=dtype)\n",
    "        return self\n",
    "\n",
    "    def float(self):\n",
    "        return self.set_dtype(np.float32)\n",
    "    \n",
    "    def sum(self):\n",
    "        # self._accumulate_add()\n",
    "        return Matrix(self.data.sum(), requires_grad=True)\n",
    "    \n",
    "    def _zero_grad(self):\n",
    "        self.grad = np.zeros_like(self.data, dtype=self.dtype)\n",
    "    \n",
    "    def _accumulate_add(self):\n",
    "        self.grad += 1\n",
    "    \n",
    "    def _accumulate_mul(self, other):\n",
    "        for i in range(self.shape[0]):\n",
    "            self.grad[:, i] += other.data[i, :].sum()\n",
    "        \n",
    "    def _accumulate_rmul(self, other):\n",
    "        for i in range(self.shape[0]):\n",
    "            self.grad[i, :] += other.data[:, i].sum()\n",
    "    \n",
    "    def __add__(self, other):\n",
    "        assert isinstance(other, Matrix)\n",
    "        \n",
    "        if self.data.shape != other.data.shape:\n",
    "            pass # TODO\n",
    "        \n",
    "        self._accumulate_add()\n",
    "        other._accumulate_add()\n",
    "        return Matrix(self.data + other.data, requires_grad=self.requires_grad)\n",
    "    \n",
    "    def __mul__(self, other):\n",
    "        assert isinstance(other, Matrix)\n",
    "        \n",
    "        self._accumulate_mul(other)\n",
    "        other._accumulate_rmul(self)\n",
    "        return Matrix(np.matmul(self.data, other.data), requires_grad=self.requires_grad)\n",
    "\n",
    "    def __rmul__(self, other):\n",
    "        # Probably not necessary\n",
    "        assert isinstance(other, Matrix)\n",
    "        self._accumulutate_rmul(other)\n",
    "        return Matrix(np.matmul(other.data, self.data), requires_grad=self.requires_grad)"
   ]
  },
  {
   "cell_type": "markdown",
   "metadata": {},
   "source": [
    "# Example"
   ]
  },
  {
   "cell_type": "code",
   "execution_count": 341,
   "metadata": {},
   "outputs": [
    {
     "data": {
      "text/plain": [
       "matrix(61.0, requires_grad=True)"
      ]
     },
     "execution_count": 341,
     "metadata": {},
     "output_type": "execute_result"
    }
   ],
   "source": [
    "# m = np.matrix([1,2,3,4,5,6,7,8,9]).reshape(3,3)\n",
    "h = 1\n",
    "m = np.matrix([1, 2+h,\n",
    "               3, 4]).reshape(2,2)\n",
    "n = np.matrix([1, 2,\n",
    "               3, 4]).reshape(2,2)\n",
    "m = Matrix(m).float()\n",
    "n = Matrix(n)\n",
    "z = m * n\n",
    "loss = z.sum()\n",
    "loss"
   ]
  },
  {
   "cell_type": "code",
   "execution_count": 335,
   "metadata": {},
   "outputs": [
    {
     "data": {
      "text/plain": [
       "matrix([[3., 7.],\n",
       "        [3., 7.]], dtype=float32)"
      ]
     },
     "execution_count": 335,
     "metadata": {},
     "output_type": "execute_result"
    }
   ],
   "source": [
    "m.grad"
   ]
  },
  {
   "cell_type": "code",
   "execution_count": 256,
   "metadata": {},
   "outputs": [
    {
     "data": {
      "text/plain": [
       "matrix([[ 7 10]], requires_grad=True)"
      ]
     },
     "execution_count": 256,
     "metadata": {},
     "output_type": "execute_result"
    }
   ],
   "source": [
    "m = np.matrix([1,2])\n",
    "n = np.matrix([1,2,3,4]).reshape(2,2)\n",
    "a = Matrix(m)\n",
    "b = Matrix(n)\n",
    "a * b"
   ]
  },
  {
   "cell_type": "code",
   "execution_count": 257,
   "metadata": {},
   "outputs": [
    {
     "data": {
      "text/plain": [
       "matrix([[3., 0.]], dtype=float32)"
      ]
     },
     "execution_count": 257,
     "metadata": {},
     "output_type": "execute_result"
    }
   ],
   "source": [
    "a.grad"
   ]
  }
 ],
 "metadata": {
  "kernelspec": {
   "display_name": "cs752",
   "language": "python",
   "name": "python3"
  },
  "language_info": {
   "codemirror_mode": {
    "name": "ipython",
    "version": 3
   },
   "file_extension": ".py",
   "mimetype": "text/x-python",
   "name": "python",
   "nbconvert_exporter": "python",
   "pygments_lexer": "ipython3",
   "version": "3.12.2"
  }
 },
 "nbformat": 4,
 "nbformat_minor": 2
}
